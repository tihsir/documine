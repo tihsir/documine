{
 "cells": [
  {
   "cell_type": "code",
   "execution_count": null,
   "metadata": {},
   "outputs": [
    {
     "name": "stdout",
     "output_type": "stream",
     "text": [
      "   page_number                                               text\n",
      "0            1  Generative Agent Simulations of 1,000 People\\n...\n",
      "1            2  MainText: General-purposesimulation ofhuman at...\n",
      "2            3  Figure 1. The process of collecting participan...\n",
      "3            4  To createthe generative agents(14,15),wedevelo...\n",
      "4            5  Figure2.Generativeagents’predictiveperformance...\n"
     ]
    }
   ],
   "source": [
    "import requests\n",
    "import io\n",
    "import pandas as pd\n",
    "import pdfplumber\n",
    "\n",
    "url = \"https://arxiv.org/pdf/2411.10109\" #can be any pdf paper link honestly, just used one\n",
    "response = requests.get(url)\n",
    "response.raise_for_status()\n",
    "pdf_bytes = io.BytesIO(response.content)\n",
    "\n",
    "# pdfminer.six was a pain in the bum tbh but pdfplumber had same issue till i loaded older version of cryptography\n",
    "pages_text = []\n",
    "with pdfplumber.open(pdf_bytes) as pdf:\n",
    "    for i, page in enumerate(pdf.pages, start=1):\n",
    "        text = page.extract_text()\n",
    "        if text is None:\n",
    "            text = \"\"\n",
    "        pages_text.append(text.strip())\n",
    "\n",
    "df = pd.DataFrame({\n",
    "    'page_number': range(1, len(pages_text) + 1),\n",
    "    'text': pages_text\n",
    "})\n",
    "\n",
    "print(df.head())\n"
   ]
  }
 ],
 "metadata": {
  "kernelspec": {
   "display_name": "Python 3 (ipykernel)",
   "language": "python",
   "name": "python3"
  },
  "language_info": {
   "codemirror_mode": {
    "name": "ipython",
    "version": 3
   },
   "file_extension": ".py",
   "mimetype": "text/x-python",
   "name": "python",
   "nbconvert_exporter": "python",
   "pygments_lexer": "ipython3",
   "version": "3.10.15"
  }
 },
 "nbformat": 4,
 "nbformat_minor": 4
}
