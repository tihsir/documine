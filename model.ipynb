{
 "cells": [
  {
   "cell_type": "code",
   "execution_count": 1,
   "id": "e5682637-ed5e-4613-89ec-bb364188fa62",
   "metadata": {},
   "outputs": [
    {
     "name": "stdout",
     "output_type": "stream",
     "text": [
      "Requirement already satisfied: chainlit==1.0.400 in c:\\users\\kai10\\miniconda3\\envs\\chromerag\\lib\\site-packages (1.0.400)\n",
      "Requirement already satisfied: huggingface_hub==0.20.3 in c:\\users\\kai10\\miniconda3\\envs\\chromerag\\lib\\site-packages (0.20.3)\n",
      "Requirement already satisfied: langchain==0.1.11 in c:\\users\\kai10\\miniconda3\\envs\\chromerag\\lib\\site-packages (0.1.11)\n",
      "Requirement already satisfied: langchain_community==0.0.27 in c:\\users\\kai10\\miniconda3\\envs\\chromerag\\lib\\site-packages (0.0.27)\n",
      "Requirement already satisfied: langchain_core==0.1.30 in c:\\users\\kai10\\miniconda3\\envs\\chromerag\\lib\\site-packages (0.1.30)\n",
      "Requirement already satisfied: wikipedia in c:\\users\\kai10\\miniconda3\\envs\\chromerag\\lib\\site-packages (1.4.0)\n",
      "Requirement already satisfied: pypdf in c:\\users\\kai10\\miniconda3\\envs\\chromerag\\lib\\site-packages (5.1.0)\n",
      "Requirement already satisfied: llama-cpp-python in c:\\users\\kai10\\miniconda3\\envs\\chromerag\\lib\\site-packages (0.3.5)\n",
      "Requirement already satisfied: chromadb in c:\\users\\kai10\\miniconda3\\envs\\chromerag\\lib\\site-packages (0.5.23)\n",
      "Requirement already satisfied: pydantic==2.10.1 in c:\\users\\kai10\\miniconda3\\envs\\chromerag\\lib\\site-packages (2.10.1)\n",
      "Requirement already satisfied: openai in c:\\users\\kai10\\miniconda3\\envs\\chromerag\\lib\\site-packages (1.57.1)\n",
      "Requirement already satisfied: tiktoken in c:\\users\\kai10\\miniconda3\\envs\\chromerag\\lib\\site-packages (0.8.0)\n",
      "Requirement already satisfied: python-dotenv in c:\\users\\kai10\\miniconda3\\envs\\chromerag\\lib\\site-packages (1.0.1)\n",
      "Requirement already satisfied: pandas in c:\\users\\kai10\\miniconda3\\envs\\chromerag\\lib\\site-packages (2.2.3)\n",
      "Requirement already satisfied: aiofiles<24.0.0,>=23.1.0 in c:\\users\\kai10\\miniconda3\\envs\\chromerag\\lib\\site-packages (from chainlit==1.0.400) (23.2.1)\n",
      "Requirement already satisfied: asyncer<0.0.3,>=0.0.2 in c:\\users\\kai10\\miniconda3\\envs\\chromerag\\lib\\site-packages (from chainlit==1.0.400) (0.0.2)\n",
      "Requirement already satisfied: click<9.0.0,>=8.1.3 in c:\\users\\kai10\\miniconda3\\envs\\chromerag\\lib\\site-packages (from chainlit==1.0.400) (8.1.7)\n",
      "Requirement already satisfied: dataclasses_json<0.6.0,>=0.5.7 in c:\\users\\kai10\\miniconda3\\envs\\chromerag\\lib\\site-packages (from chainlit==1.0.400) (0.5.14)\n",
      "Requirement already satisfied: fastapi>=0.100 in c:\\users\\kai10\\miniconda3\\envs\\chromerag\\lib\\site-packages (from chainlit==1.0.400) (0.108.0)\n",
      "Requirement already satisfied: fastapi-socketio<0.0.11,>=0.0.10 in c:\\users\\kai10\\miniconda3\\envs\\chromerag\\lib\\site-packages (from chainlit==1.0.400) (0.0.10)\n",
      "Requirement already satisfied: filetype<2.0.0,>=1.2.0 in c:\\users\\kai10\\miniconda3\\envs\\chromerag\\lib\\site-packages (from chainlit==1.0.400) (1.2.0)\n",
      "Requirement already satisfied: httpx>=0.23.0 in c:\\users\\kai10\\miniconda3\\envs\\chromerag\\lib\\site-packages (from chainlit==1.0.400) (0.27.0)\n",
      "Requirement already satisfied: lazify<0.5.0,>=0.4.0 in c:\\users\\kai10\\miniconda3\\envs\\chromerag\\lib\\site-packages (from chainlit==1.0.400) (0.4.0)\n",
      "Requirement already satisfied: literalai==0.0.300 in c:\\users\\kai10\\miniconda3\\envs\\chromerag\\lib\\site-packages (from chainlit==1.0.400) (0.0.300)\n",
      "Requirement already satisfied: nest-asyncio<2.0.0,>=1.5.6 in c:\\users\\kai10\\miniconda3\\envs\\chromerag\\lib\\site-packages (from chainlit==1.0.400) (1.6.0)\n",
      "Requirement already satisfied: packaging<24.0,>=23.1 in c:\\users\\kai10\\miniconda3\\envs\\chromerag\\lib\\site-packages (from chainlit==1.0.400) (23.2)\n",
      "Requirement already satisfied: pyjwt<3.0.0,>=2.8.0 in c:\\users\\kai10\\miniconda3\\envs\\chromerag\\lib\\site-packages (from chainlit==1.0.400) (2.10.1)\n",
      "Requirement already satisfied: python-graphql-client<0.5.0,>=0.4.3 in c:\\users\\kai10\\miniconda3\\envs\\chromerag\\lib\\site-packages (from chainlit==1.0.400) (0.4.3)\n",
      "Requirement already satisfied: python-multipart<0.0.7,>=0.0.6 in c:\\users\\kai10\\miniconda3\\envs\\chromerag\\lib\\site-packages (from chainlit==1.0.400) (0.0.6)\n",
      "Requirement already satisfied: starlette<0.33.0 in c:\\users\\kai10\\miniconda3\\envs\\chromerag\\lib\\site-packages (from chainlit==1.0.400) (0.32.0.post1)\n",
      "Requirement already satisfied: syncer<3.0.0,>=2.0.3 in c:\\users\\kai10\\miniconda3\\envs\\chromerag\\lib\\site-packages (from chainlit==1.0.400) (2.0.3)\n",
      "Requirement already satisfied: tomli<3.0.0,>=2.0.1 in c:\\users\\kai10\\miniconda3\\envs\\chromerag\\lib\\site-packages (from chainlit==1.0.400) (2.0.1)\n",
      "Requirement already satisfied: uptrace<2.0.0,>=1.22.0 in c:\\users\\kai10\\miniconda3\\envs\\chromerag\\lib\\site-packages (from chainlit==1.0.400) (1.28.2)\n",
      "Requirement already satisfied: uvicorn<0.26.0,>=0.25.0 in c:\\users\\kai10\\miniconda3\\envs\\chromerag\\lib\\site-packages (from chainlit==1.0.400) (0.25.0)\n",
      "Requirement already satisfied: watchfiles<0.21.0,>=0.20.0 in c:\\users\\kai10\\miniconda3\\envs\\chromerag\\lib\\site-packages (from chainlit==1.0.400) (0.20.0)\n",
      "Requirement already satisfied: filelock in c:\\users\\kai10\\miniconda3\\envs\\chromerag\\lib\\site-packages (from huggingface_hub==0.20.3) (3.16.1)\n",
      "Requirement already satisfied: fsspec>=2023.5.0 in c:\\users\\kai10\\miniconda3\\envs\\chromerag\\lib\\site-packages (from huggingface_hub==0.20.3) (2024.10.0)\n",
      "Requirement already satisfied: requests in c:\\users\\kai10\\miniconda3\\envs\\chromerag\\lib\\site-packages (from huggingface_hub==0.20.3) (2.32.3)\n",
      "Requirement already satisfied: tqdm>=4.42.1 in c:\\users\\kai10\\miniconda3\\envs\\chromerag\\lib\\site-packages (from huggingface_hub==0.20.3) (4.67.1)\n",
      "Requirement already satisfied: pyyaml>=5.1 in c:\\users\\kai10\\miniconda3\\envs\\chromerag\\lib\\site-packages (from huggingface_hub==0.20.3) (6.0.2)\n",
      "Requirement already satisfied: typing-extensions>=3.7.4.3 in c:\\users\\kai10\\miniconda3\\envs\\chromerag\\lib\\site-packages (from huggingface_hub==0.20.3) (4.12.2)\n",
      "Requirement already satisfied: SQLAlchemy<3,>=1.4 in c:\\users\\kai10\\miniconda3\\envs\\chromerag\\lib\\site-packages (from langchain==0.1.11) (2.0.36)\n",
      "Requirement already satisfied: aiohttp<4.0.0,>=3.8.3 in c:\\users\\kai10\\miniconda3\\envs\\chromerag\\lib\\site-packages (from langchain==0.1.11) (3.11.10)\n",
      "Requirement already satisfied: async-timeout<5.0.0,>=4.0.0 in c:\\users\\kai10\\miniconda3\\envs\\chromerag\\lib\\site-packages (from langchain==0.1.11) (4.0.3)\n",
      "Requirement already satisfied: jsonpatch<2.0,>=1.33 in c:\\users\\kai10\\miniconda3\\envs\\chromerag\\lib\\site-packages (from langchain==0.1.11) (1.33)\n",
      "Requirement already satisfied: langchain-text-splitters<0.1,>=0.0.1 in c:\\users\\kai10\\miniconda3\\envs\\chromerag\\lib\\site-packages (from langchain==0.1.11) (0.0.2)\n",
      "Requirement already satisfied: langsmith<0.2.0,>=0.1.17 in c:\\users\\kai10\\miniconda3\\envs\\chromerag\\lib\\site-packages (from langchain==0.1.11) (0.1.147)\n",
      "Requirement already satisfied: numpy<2,>=1 in c:\\users\\kai10\\miniconda3\\envs\\chromerag\\lib\\site-packages (from langchain==0.1.11) (1.26.4)\n",
      "Requirement already satisfied: tenacity<9.0.0,>=8.1.0 in c:\\users\\kai10\\miniconda3\\envs\\chromerag\\lib\\site-packages (from langchain==0.1.11) (8.5.0)\n",
      "Requirement already satisfied: anyio<5,>=3 in c:\\users\\kai10\\miniconda3\\envs\\chromerag\\lib\\site-packages (from langchain_core==0.1.30) (3.7.1)\n",
      "Requirement already satisfied: annotated-types>=0.6.0 in c:\\users\\kai10\\miniconda3\\envs\\chromerag\\lib\\site-packages (from pydantic==2.10.1) (0.7.0)\n",
      "Requirement already satisfied: pydantic-core==2.27.1 in c:\\users\\kai10\\miniconda3\\envs\\chromerag\\lib\\site-packages (from pydantic==2.10.1) (2.27.1)\n",
      "Requirement already satisfied: chevron>=0.14.0 in c:\\users\\kai10\\miniconda3\\envs\\chromerag\\lib\\site-packages (from literalai==0.0.300->chainlit==1.0.400) (0.14.0)\n",
      "Requirement already satisfied: beautifulsoup4 in c:\\users\\kai10\\miniconda3\\envs\\chromerag\\lib\\site-packages (from wikipedia) (4.12.3)\n",
      "Requirement already satisfied: diskcache>=5.6.1 in c:\\users\\kai10\\miniconda3\\envs\\chromerag\\lib\\site-packages (from llama-cpp-python) (5.6.3)\n",
      "Requirement already satisfied: jinja2>=2.11.3 in c:\\users\\kai10\\miniconda3\\envs\\chromerag\\lib\\site-packages (from llama-cpp-python) (3.1.4)\n",
      "Requirement already satisfied: build>=1.0.3 in c:\\users\\kai10\\miniconda3\\envs\\chromerag\\lib\\site-packages (from chromadb) (1.2.2.post1)\n",
      "Requirement already satisfied: chroma-hnswlib==0.7.6 in c:\\users\\kai10\\miniconda3\\envs\\chromerag\\lib\\site-packages (from chromadb) (0.7.6)\n",
      "Requirement already satisfied: posthog>=2.4.0 in c:\\users\\kai10\\miniconda3\\envs\\chromerag\\lib\\site-packages (from chromadb) (3.7.4)\n",
      "Requirement already satisfied: onnxruntime>=1.14.1 in c:\\users\\kai10\\miniconda3\\envs\\chromerag\\lib\\site-packages (from chromadb) (1.20.1)\n",
      "Requirement already satisfied: opentelemetry-api>=1.2.0 in c:\\users\\kai10\\miniconda3\\envs\\chromerag\\lib\\site-packages (from chromadb) (1.28.2)\n",
      "Requirement already satisfied: opentelemetry-exporter-otlp-proto-grpc>=1.2.0 in c:\\users\\kai10\\miniconda3\\envs\\chromerag\\lib\\site-packages (from chromadb) (1.28.2)\n",
      "Requirement already satisfied: opentelemetry-instrumentation-fastapi>=0.41b0 in c:\\users\\kai10\\miniconda3\\envs\\chromerag\\lib\\site-packages (from chromadb) (0.49b2)\n",
      "Requirement already satisfied: opentelemetry-sdk>=1.2.0 in c:\\users\\kai10\\miniconda3\\envs\\chromerag\\lib\\site-packages (from chromadb) (1.28.2)\n",
      "Requirement already satisfied: tokenizers<=0.20.3,>=0.13.2 in c:\\users\\kai10\\miniconda3\\envs\\chromerag\\lib\\site-packages (from chromadb) (0.20.3)\n",
      "Requirement already satisfied: pypika>=0.48.9 in c:\\users\\kai10\\miniconda3\\envs\\chromerag\\lib\\site-packages (from chromadb) (0.48.9)\n",
      "Requirement already satisfied: overrides>=7.3.1 in c:\\users\\kai10\\miniconda3\\envs\\chromerag\\lib\\site-packages (from chromadb) (7.4.0)\n",
      "Requirement already satisfied: importlib-resources in c:\\users\\kai10\\miniconda3\\envs\\chromerag\\lib\\site-packages (from chromadb) (6.4.5)\n",
      "Requirement already satisfied: grpcio>=1.58.0 in c:\\users\\kai10\\miniconda3\\envs\\chromerag\\lib\\site-packages (from chromadb) (1.68.1)\n",
      "Requirement already satisfied: bcrypt>=4.0.1 in c:\\users\\kai10\\miniconda3\\envs\\chromerag\\lib\\site-packages (from chromadb) (4.2.1)\n",
      "Requirement already satisfied: typer>=0.9.0 in c:\\users\\kai10\\miniconda3\\envs\\chromerag\\lib\\site-packages (from chromadb) (0.15.1)\n",
      "Requirement already satisfied: kubernetes>=28.1.0 in c:\\users\\kai10\\miniconda3\\envs\\chromerag\\lib\\site-packages (from chromadb) (31.0.0)\n",
      "Requirement already satisfied: mmh3>=4.0.1 in c:\\users\\kai10\\miniconda3\\envs\\chromerag\\lib\\site-packages (from chromadb) (5.0.1)\n",
      "Requirement already satisfied: orjson>=3.9.12 in c:\\users\\kai10\\miniconda3\\envs\\chromerag\\lib\\site-packages (from chromadb) (3.10.12)\n",
      "Requirement already satisfied: rich>=10.11.0 in c:\\users\\kai10\\miniconda3\\envs\\chromerag\\lib\\site-packages (from chromadb) (13.9.4)\n",
      "Requirement already satisfied: distro<2,>=1.7.0 in c:\\users\\kai10\\miniconda3\\envs\\chromerag\\lib\\site-packages (from openai) (1.9.0)\n",
      "Requirement already satisfied: jiter<1,>=0.4.0 in c:\\users\\kai10\\miniconda3\\envs\\chromerag\\lib\\site-packages (from openai) (0.8.2)\n",
      "Requirement already satisfied: sniffio in c:\\users\\kai10\\miniconda3\\envs\\chromerag\\lib\\site-packages (from openai) (1.3.0)\n",
      "Requirement already satisfied: regex>=2022.1.18 in c:\\users\\kai10\\miniconda3\\envs\\chromerag\\lib\\site-packages (from tiktoken) (2024.11.6)\n",
      "Requirement already satisfied: python-dateutil>=2.8.2 in c:\\users\\kai10\\miniconda3\\envs\\chromerag\\lib\\site-packages (from pandas) (2.9.0.post0)\n",
      "Requirement already satisfied: pytz>=2020.1 in c:\\users\\kai10\\miniconda3\\envs\\chromerag\\lib\\site-packages (from pandas) (2024.1)\n",
      "Requirement already satisfied: tzdata>=2022.7 in c:\\users\\kai10\\miniconda3\\envs\\chromerag\\lib\\site-packages (from pandas) (2024.2)\n",
      "Requirement already satisfied: aiohappyeyeballs>=2.3.0 in c:\\users\\kai10\\miniconda3\\envs\\chromerag\\lib\\site-packages (from aiohttp<4.0.0,>=3.8.3->langchain==0.1.11) (2.4.4)\n",
      "Requirement already satisfied: aiosignal>=1.1.2 in c:\\users\\kai10\\miniconda3\\envs\\chromerag\\lib\\site-packages (from aiohttp<4.0.0,>=3.8.3->langchain==0.1.11) (1.3.1)\n",
      "Requirement already satisfied: attrs>=17.3.0 in c:\\users\\kai10\\miniconda3\\envs\\chromerag\\lib\\site-packages (from aiohttp<4.0.0,>=3.8.3->langchain==0.1.11) (24.2.0)\n",
      "Requirement already satisfied: frozenlist>=1.1.1 in c:\\users\\kai10\\miniconda3\\envs\\chromerag\\lib\\site-packages (from aiohttp<4.0.0,>=3.8.3->langchain==0.1.11) (1.5.0)\n",
      "Requirement already satisfied: multidict<7.0,>=4.5 in c:\\users\\kai10\\miniconda3\\envs\\chromerag\\lib\\site-packages (from aiohttp<4.0.0,>=3.8.3->langchain==0.1.11) (6.1.0)\n",
      "Requirement already satisfied: propcache>=0.2.0 in c:\\users\\kai10\\miniconda3\\envs\\chromerag\\lib\\site-packages (from aiohttp<4.0.0,>=3.8.3->langchain==0.1.11) (0.2.1)\n",
      "Requirement already satisfied: yarl<2.0,>=1.17.0 in c:\\users\\kai10\\miniconda3\\envs\\chromerag\\lib\\site-packages (from aiohttp<4.0.0,>=3.8.3->langchain==0.1.11) (1.18.3)\n",
      "Requirement already satisfied: idna>=2.8 in c:\\users\\kai10\\miniconda3\\envs\\chromerag\\lib\\site-packages (from anyio<5,>=3->langchain_core==0.1.30) (3.7)\n",
      "Requirement already satisfied: exceptiongroup in c:\\users\\kai10\\miniconda3\\envs\\chromerag\\lib\\site-packages (from anyio<5,>=3->langchain_core==0.1.30) (1.2.0)\n",
      "Requirement already satisfied: pyproject_hooks in c:\\users\\kai10\\miniconda3\\envs\\chromerag\\lib\\site-packages (from build>=1.0.3->chromadb) (1.2.0)\n",
      "Requirement already satisfied: colorama in c:\\users\\kai10\\miniconda3\\envs\\chromerag\\lib\\site-packages (from build>=1.0.3->chromadb) (0.4.6)\n",
      "Requirement already satisfied: marshmallow<4.0.0,>=3.18.0 in c:\\users\\kai10\\miniconda3\\envs\\chromerag\\lib\\site-packages (from dataclasses_json<0.6.0,>=0.5.7->chainlit==1.0.400) (3.23.1)\n",
      "Requirement already satisfied: typing-inspect<1,>=0.4.0 in c:\\users\\kai10\\miniconda3\\envs\\chromerag\\lib\\site-packages (from dataclasses_json<0.6.0,>=0.5.7->chainlit==1.0.400) (0.9.0)\n",
      "Requirement already satisfied: python-socketio>=4.6.0 in c:\\users\\kai10\\miniconda3\\envs\\chromerag\\lib\\site-packages (from fastapi-socketio<0.0.11,>=0.0.10->chainlit==1.0.400) (5.11.4)\n",
      "Requirement already satisfied: certifi in c:\\users\\kai10\\miniconda3\\envs\\chromerag\\lib\\site-packages (from httpx>=0.23.0->chainlit==1.0.400) (2024.8.30)\n",
      "Requirement already satisfied: httpcore==1.* in c:\\users\\kai10\\miniconda3\\envs\\chromerag\\lib\\site-packages (from httpx>=0.23.0->chainlit==1.0.400) (1.0.2)\n",
      "Requirement already satisfied: h11<0.15,>=0.13 in c:\\users\\kai10\\miniconda3\\envs\\chromerag\\lib\\site-packages (from httpcore==1.*->httpx>=0.23.0->chainlit==1.0.400) (0.14.0)\n",
      "Requirement already satisfied: MarkupSafe>=2.0 in c:\\users\\kai10\\miniconda3\\envs\\chromerag\\lib\\site-packages (from jinja2>=2.11.3->llama-cpp-python) (2.1.3)\n",
      "Requirement already satisfied: jsonpointer>=1.9 in c:\\users\\kai10\\miniconda3\\envs\\chromerag\\lib\\site-packages (from jsonpatch<2.0,>=1.33->langchain==0.1.11) (3.0.0)\n",
      "Requirement already satisfied: six>=1.9.0 in c:\\users\\kai10\\miniconda3\\envs\\chromerag\\lib\\site-packages (from kubernetes>=28.1.0->chromadb) (1.16.0)\n",
      "Requirement already satisfied: google-auth>=1.0.1 in c:\\users\\kai10\\miniconda3\\envs\\chromerag\\lib\\site-packages (from kubernetes>=28.1.0->chromadb) (2.36.0)\n",
      "Requirement already satisfied: websocket-client!=0.40.0,!=0.41.*,!=0.42.*,>=0.32.0 in c:\\users\\kai10\\miniconda3\\envs\\chromerag\\lib\\site-packages (from kubernetes>=28.1.0->chromadb) (1.8.0)\n",
      "Requirement already satisfied: requests-oauthlib in c:\\users\\kai10\\miniconda3\\envs\\chromerag\\lib\\site-packages (from kubernetes>=28.1.0->chromadb) (2.0.0)\n",
      "Requirement already satisfied: oauthlib>=3.2.2 in c:\\users\\kai10\\miniconda3\\envs\\chromerag\\lib\\site-packages (from kubernetes>=28.1.0->chromadb) (3.2.2)\n",
      "Requirement already satisfied: urllib3>=1.24.2 in c:\\users\\kai10\\miniconda3\\envs\\chromerag\\lib\\site-packages (from kubernetes>=28.1.0->chromadb) (2.2.3)\n",
      "Requirement already satisfied: durationpy>=0.7 in c:\\users\\kai10\\miniconda3\\envs\\chromerag\\lib\\site-packages (from kubernetes>=28.1.0->chromadb) (0.9)\n",
      "Requirement already satisfied: requests-toolbelt<2.0.0,>=1.0.0 in c:\\users\\kai10\\miniconda3\\envs\\chromerag\\lib\\site-packages (from langsmith<0.2.0,>=0.1.17->langchain==0.1.11) (1.0.0)\n",
      "Requirement already satisfied: coloredlogs in c:\\users\\kai10\\miniconda3\\envs\\chromerag\\lib\\site-packages (from onnxruntime>=1.14.1->chromadb) (15.0.1)\n",
      "Requirement already satisfied: flatbuffers in c:\\users\\kai10\\miniconda3\\envs\\chromerag\\lib\\site-packages (from onnxruntime>=1.14.1->chromadb) (24.3.25)\n",
      "Requirement already satisfied: protobuf in c:\\users\\kai10\\miniconda3\\envs\\chromerag\\lib\\site-packages (from onnxruntime>=1.14.1->chromadb) (5.29.1)\n",
      "Requirement already satisfied: sympy in c:\\users\\kai10\\miniconda3\\envs\\chromerag\\lib\\site-packages (from onnxruntime>=1.14.1->chromadb) (1.13.3)\n",
      "Requirement already satisfied: deprecated>=1.2.6 in c:\\users\\kai10\\miniconda3\\envs\\chromerag\\lib\\site-packages (from opentelemetry-api>=1.2.0->chromadb) (1.2.15)\n",
      "Requirement already satisfied: importlib-metadata<=8.5.0,>=6.0 in c:\\users\\kai10\\miniconda3\\envs\\chromerag\\lib\\site-packages (from opentelemetry-api>=1.2.0->chromadb) (8.5.0)\n",
      "Requirement already satisfied: googleapis-common-protos~=1.52 in c:\\users\\kai10\\miniconda3\\envs\\chromerag\\lib\\site-packages (from opentelemetry-exporter-otlp-proto-grpc>=1.2.0->chromadb) (1.66.0)\n",
      "Requirement already satisfied: opentelemetry-exporter-otlp-proto-common==1.28.2 in c:\\users\\kai10\\miniconda3\\envs\\chromerag\\lib\\site-packages (from opentelemetry-exporter-otlp-proto-grpc>=1.2.0->chromadb) (1.28.2)\n",
      "Requirement already satisfied: opentelemetry-proto==1.28.2 in c:\\users\\kai10\\miniconda3\\envs\\chromerag\\lib\\site-packages (from opentelemetry-exporter-otlp-proto-grpc>=1.2.0->chromadb) (1.28.2)\n",
      "Requirement already satisfied: opentelemetry-instrumentation-asgi==0.49b2 in c:\\users\\kai10\\miniconda3\\envs\\chromerag\\lib\\site-packages (from opentelemetry-instrumentation-fastapi>=0.41b0->chromadb) (0.49b2)\n",
      "Requirement already satisfied: opentelemetry-instrumentation==0.49b2 in c:\\users\\kai10\\miniconda3\\envs\\chromerag\\lib\\site-packages (from opentelemetry-instrumentation-fastapi>=0.41b0->chromadb) (0.49b2)\n",
      "Requirement already satisfied: opentelemetry-semantic-conventions==0.49b2 in c:\\users\\kai10\\miniconda3\\envs\\chromerag\\lib\\site-packages (from opentelemetry-instrumentation-fastapi>=0.41b0->chromadb) (0.49b2)\n",
      "Requirement already satisfied: opentelemetry-util-http==0.49b2 in c:\\users\\kai10\\miniconda3\\envs\\chromerag\\lib\\site-packages (from opentelemetry-instrumentation-fastapi>=0.41b0->chromadb) (0.49b2)\n",
      "Requirement already satisfied: wrapt<2.0.0,>=1.0.0 in c:\\users\\kai10\\miniconda3\\envs\\chromerag\\lib\\site-packages (from opentelemetry-instrumentation==0.49b2->opentelemetry-instrumentation-fastapi>=0.41b0->chromadb) (1.17.0)\n",
      "Requirement already satisfied: asgiref~=3.0 in c:\\users\\kai10\\miniconda3\\envs\\chromerag\\lib\\site-packages (from opentelemetry-instrumentation-asgi==0.49b2->opentelemetry-instrumentation-fastapi>=0.41b0->chromadb) (3.8.1)\n",
      "Requirement already satisfied: monotonic>=1.5 in c:\\users\\kai10\\miniconda3\\envs\\chromerag\\lib\\site-packages (from posthog>=2.4.0->chromadb) (1.6)\n",
      "Requirement already satisfied: backoff>=1.10.0 in c:\\users\\kai10\\miniconda3\\envs\\chromerag\\lib\\site-packages (from posthog>=2.4.0->chromadb) (2.2.1)\n",
      "Requirement already satisfied: websockets>=5.0 in c:\\users\\kai10\\miniconda3\\envs\\chromerag\\lib\\site-packages (from python-graphql-client<0.5.0,>=0.4.3->chainlit==1.0.400) (14.1)\n",
      "Requirement already satisfied: charset-normalizer<4,>=2 in c:\\users\\kai10\\miniconda3\\envs\\chromerag\\lib\\site-packages (from requests->huggingface_hub==0.20.3) (3.3.2)\n",
      "Requirement already satisfied: markdown-it-py>=2.2.0 in c:\\users\\kai10\\miniconda3\\envs\\chromerag\\lib\\site-packages (from rich>=10.11.0->chromadb) (3.0.0)\n",
      "Requirement already satisfied: pygments<3.0.0,>=2.13.0 in c:\\users\\kai10\\miniconda3\\envs\\chromerag\\lib\\site-packages (from rich>=10.11.0->chromadb) (2.15.1)\n",
      "Requirement already satisfied: greenlet!=0.4.17 in c:\\users\\kai10\\miniconda3\\envs\\chromerag\\lib\\site-packages (from SQLAlchemy<3,>=1.4->langchain==0.1.11) (3.1.1)\n",
      "Requirement already satisfied: shellingham>=1.3.0 in c:\\users\\kai10\\miniconda3\\envs\\chromerag\\lib\\site-packages (from typer>=0.9.0->chromadb) (1.5.4)\n",
      "Requirement already satisfied: opentelemetry-exporter-otlp~=1.28.2 in c:\\users\\kai10\\miniconda3\\envs\\chromerag\\lib\\site-packages (from uptrace<2.0.0,>=1.22.0->chainlit==1.0.400) (1.28.2)\n",
      "Requirement already satisfied: httptools>=0.5.0 in c:\\users\\kai10\\miniconda3\\envs\\chromerag\\lib\\site-packages (from uvicorn[standard]>=0.18.3->chromadb) (0.6.4)\n",
      "Requirement already satisfied: soupsieve>1.2 in c:\\users\\kai10\\miniconda3\\envs\\chromerag\\lib\\site-packages (from beautifulsoup4->wikipedia) (2.5)\n",
      "Requirement already satisfied: cachetools<6.0,>=2.0.0 in c:\\users\\kai10\\miniconda3\\envs\\chromerag\\lib\\site-packages (from google-auth>=1.0.1->kubernetes>=28.1.0->chromadb) (5.5.0)\n",
      "Requirement already satisfied: pyasn1-modules>=0.2.1 in c:\\users\\kai10\\miniconda3\\envs\\chromerag\\lib\\site-packages (from google-auth>=1.0.1->kubernetes>=28.1.0->chromadb) (0.4.1)\n",
      "Requirement already satisfied: rsa<5,>=3.1.4 in c:\\users\\kai10\\miniconda3\\envs\\chromerag\\lib\\site-packages (from google-auth>=1.0.1->kubernetes>=28.1.0->chromadb) (4.9)\n",
      "Requirement already satisfied: zipp>=3.20 in c:\\users\\kai10\\miniconda3\\envs\\chromerag\\lib\\site-packages (from importlib-metadata<=8.5.0,>=6.0->opentelemetry-api>=1.2.0->chromadb) (3.21.0)\n",
      "Requirement already satisfied: mdurl~=0.1 in c:\\users\\kai10\\miniconda3\\envs\\chromerag\\lib\\site-packages (from markdown-it-py>=2.2.0->rich>=10.11.0->chromadb) (0.1.2)\n",
      "Requirement already satisfied: opentelemetry-exporter-otlp-proto-http==1.28.2 in c:\\users\\kai10\\miniconda3\\envs\\chromerag\\lib\\site-packages (from opentelemetry-exporter-otlp~=1.28.2->uptrace<2.0.0,>=1.22.0->chainlit==1.0.400) (1.28.2)\n",
      "Requirement already satisfied: bidict>=0.21.0 in c:\\users\\kai10\\miniconda3\\envs\\chromerag\\lib\\site-packages (from python-socketio>=4.6.0->fastapi-socketio<0.0.11,>=0.0.10->chainlit==1.0.400) (0.23.1)\n",
      "Requirement already satisfied: python-engineio>=4.8.0 in c:\\users\\kai10\\miniconda3\\envs\\chromerag\\lib\\site-packages (from python-socketio>=4.6.0->fastapi-socketio<0.0.11,>=0.0.10->chainlit==1.0.400) (4.10.1)\n",
      "Requirement already satisfied: mypy-extensions>=0.3.0 in c:\\users\\kai10\\miniconda3\\envs\\chromerag\\lib\\site-packages (from typing-inspect<1,>=0.4.0->dataclasses_json<0.6.0,>=0.5.7->chainlit==1.0.400) (1.0.0)\n",
      "Requirement already satisfied: humanfriendly>=9.1 in c:\\users\\kai10\\miniconda3\\envs\\chromerag\\lib\\site-packages (from coloredlogs->onnxruntime>=1.14.1->chromadb) (10.0)\n",
      "Requirement already satisfied: mpmath<1.4,>=1.1.0 in c:\\users\\kai10\\miniconda3\\envs\\chromerag\\lib\\site-packages (from sympy->onnxruntime>=1.14.1->chromadb) (1.3.0)\n",
      "Requirement already satisfied: pyreadline3 in c:\\users\\kai10\\miniconda3\\envs\\chromerag\\lib\\site-packages (from humanfriendly>=9.1->coloredlogs->onnxruntime>=1.14.1->chromadb) (3.5.4)\n",
      "Requirement already satisfied: pyasn1<0.7.0,>=0.4.6 in c:\\users\\kai10\\miniconda3\\envs\\chromerag\\lib\\site-packages (from pyasn1-modules>=0.2.1->google-auth>=1.0.1->kubernetes>=28.1.0->chromadb) (0.6.1)\n",
      "Requirement already satisfied: simple-websocket>=0.10.0 in c:\\users\\kai10\\miniconda3\\envs\\chromerag\\lib\\site-packages (from python-engineio>=4.8.0->python-socketio>=4.6.0->fastapi-socketio<0.0.11,>=0.0.10->chainlit==1.0.400) (1.1.0)\n",
      "Requirement already satisfied: wsproto in c:\\users\\kai10\\miniconda3\\envs\\chromerag\\lib\\site-packages (from simple-websocket>=0.10.0->python-engineio>=4.8.0->python-socketio>=4.6.0->fastapi-socketio<0.0.11,>=0.0.10->chainlit==1.0.400) (1.2.0)\n"
     ]
    }
   ],
   "source": [
    "!pip install chainlit==1.0.400\\\n",
    "huggingface_hub==0.20.3\\\n",
    "langchain==0.1.11\\\n",
    "langchain_community==0.0.27\\\n",
    "langchain_core==0.1.30\\\n",
    "wikipedia \\\n",
    "pypdf \\\n",
    "llama-cpp-python \\\n",
    "chromadb \\\n",
    "pydantic==2.10.1 \\\n",
    "openai \\\n",
    "tiktoken \\\n",
    "python-dotenv \\\n",
    "pandas"
   ]
  },
  {
   "cell_type": "code",
   "execution_count": 2,
   "id": "ab9c063e-1378-410c-b93a-c8b2b9ffd628",
   "metadata": {},
   "outputs": [
    {
     "name": "stdout",
     "output_type": "stream",
     "text": [
      "Include your open api key in .env\n"
     ]
    }
   ],
   "source": [
    "# from torch import cuda, bfloat16\n",
    "# import torch\n",
    "# import transformers\n",
    "# from transformers import AutoTokenizer\n",
    "# from time import time\n",
    "#import chromadb\n",
    "#from chromadb.config import Settings\n",
    "\n",
    "from langchain.llms import HuggingFacePipeline\n",
    "from langchain.document_loaders import TextLoader\n",
    "from langchain.text_splitter import RecursiveCharacterTextSplitter\n",
    "from langchain.embeddings import HuggingFaceEmbeddings\n",
    "from langchain.chains import RetrievalQA\n",
    "from langchain.vectorstores import Chroma\n",
    "\n",
    "from langchain.prompts import ChatPromptTemplate\n",
    "from langchain.text_splitter import RecursiveCharacterTextSplitter\n",
    "from langchain_community.document_loaders import PyPDFDirectoryLoader\n",
    "from langchain.text_splitter import RecursiveCharacterTextSplitter\n",
    "from langchain_community.vectorstores import Chroma\n",
    "from langchain.callbacks.streaming_stdout import StreamingStdOutCallbackHandler\n",
    "from langchain_core.prompts import ChatPromptTemplate\n",
    "from langchain_community.llms import LlamaCpp\n",
    "from langchain_community.embeddings import LlamaCppEmbeddings\n",
    "from langchain.text_splitter import RecursiveCharacterTextSplitter \n",
    "from langchain.callbacks.manager import CallbackManager\n",
    "from langchain.callbacks.streaming_stdout import StreamingStdOutCallbackHandler\n",
    "from langchain.chains import RetrievalQA \n",
    "from langchain.callbacks import StdOutCallbackHandler\n",
    "\n",
    "# from huggingface_hub import hf_hub_download\n",
    "\n",
    "import pandas as pd\n",
    "import os\n",
    "from constants import *\n",
    "from dotenv import load_dotenv\n",
    "\n",
    "# Loads environment variables from .env\n",
    "load_dotenv()\n",
    "\n",
    "if not os.getenv(\"OPENAI_API_KEY\"):\n",
    "    print(\"Include your open api key in .env\")"
   ]
  },
  {
   "cell_type": "markdown",
   "id": "9cd2ae72-146c-4e3c-8ada-80daac57f58b",
   "metadata": {},
   "source": [
    "# Login to HuggingFace - Only for hub download but since we are using open ai this is not needded"
   ]
  },
  {
   "cell_type": "code",
   "execution_count": 3,
   "id": "51de09d3-2fee-4ec4-99ae-539af1f64a9b",
   "metadata": {},
   "outputs": [],
   "source": [
    "# from huggingface_hub import notebook_login\n",
    "# notebook_login()"
   ]
  },
  {
   "cell_type": "markdown",
   "id": "8c5e343b-e2e7-4ad8-b049-ea6522526252",
   "metadata": {},
   "source": [
    "# Scrape Wikipedia and store as langchain documents for chrommaDB\n",
    "\n",
    "Use Scraper.ipynb, TODO convert to scraper.py\n"
   ]
  },
  {
   "cell_type": "code",
   "execution_count": 4,
   "id": "5c31c77d-8fa2-499b-a794-3ff45b9aa0fb",
   "metadata": {},
   "outputs": [],
   "source": [
    "from langchain_core.documents import Document\n",
    "wiki_df = pd.read_csv(\"scraped.csv\")\n",
    "wiki_df.head()\n",
    "\n",
    "texts_from_wiki = wiki_df['content'].tolist()  \n",
    "\n",
    "documents_from_wiki = [ Document(\n",
    "    page_content= x,\n",
    "    metadata={}\n",
    ") for x in texts_from_wiki]\n"
   ]
  },
  {
   "cell_type": "markdown",
   "id": "6278d130",
   "metadata": {},
   "source": [
    "# Import User-Defined Documents"
   ]
  },
  {
   "cell_type": "code",
   "execution_count": 5,
   "id": "06315be6",
   "metadata": {},
   "outputs": [],
   "source": [
    "# Collate and gather text data from the PDFs in DATA_DIR\n",
    "loader = PyPDFDirectoryLoader(DATA_DIR)\n",
    "text_splitter = RecursiveCharacterTextSplitter(chunk_size=250, chunk_overlap=50)\n",
    "docs = loader.load()\n",
    "documents_from_user = text_splitter.split_documents(docs)\n"
   ]
  },
  {
   "cell_type": "code",
   "execution_count": null,
   "id": "e6048c6f",
   "metadata": {},
   "outputs": [],
   "source": []
  },
  {
   "cell_type": "markdown",
   "id": "469d51d1-5f3a-4296-a99d-3461fe50770f",
   "metadata": {},
   "source": [
    "# Create Chroma DB -> We will merge all data sources (wikipedia, user-defined, etc.)"
   ]
  },
  {
   "cell_type": "code",
   "execution_count": 6,
   "id": "77df0b73-644a-460e-8354-8deb75f80e22",
   "metadata": {},
   "outputs": [
    {
     "name": "stderr",
     "output_type": "stream",
     "text": [
      "C:\\Users\\kai10\\miniconda3\\envs\\chromerag\\lib\\site-packages\\langchain_core\\_api\\deprecation.py:117: LangChainDeprecationWarning: The class `langchain_community.llms.openai.OpenAI` was deprecated in langchain-community 0.0.10 and will be removed in 0.2.0. An updated version of the class exists in the langchain-openai package and should be used instead. To use it run `pip install -U langchain-openai` and import as `from langchain_openai import OpenAI`.\n",
      "  warn_deprecated(\n",
      "C:\\Users\\kai10\\miniconda3\\envs\\chromerag\\lib\\site-packages\\langchain_core\\_api\\deprecation.py:117: LangChainDeprecationWarning: The class `langchain_community.embeddings.openai.OpenAIEmbeddings` was deprecated in langchain-community 0.0.9 and will be removed in 0.2.0. An updated version of the class exists in the langchain-openai package and should be used instead. To use it run `pip install -U langchain-openai` and import as `from langchain_openai import OpenAIEmbeddings`.\n",
      "  warn_deprecated(\n"
     ]
    },
    {
     "data": {
      "text/plain": [
       "<langchain_community.vectorstores.chroma.Chroma at 0x25158b21030>"
      ]
     },
     "execution_count": 6,
     "metadata": {},
     "output_type": "execute_result"
    }
   ],
   "source": [
    "from langchain_core.documents import Document\n",
    "\n",
    "# split text:\n",
    "from langchain.llms import OpenAI\n",
    "import os\n",
    "from langchain.embeddings import OpenAIEmbeddings\n",
    "\n",
    "# define openAI embeddings and LLMs\n",
    "llm = OpenAI()\n",
    "embeddings = OpenAIEmbeddings()\n",
    "\n",
    "# Consolidate data:\n",
    "all_documents = documents_from_wiki + documents_from_user\n"
   ]
  },
  {
   "cell_type": "code",
   "execution_count": 12,
   "id": "226fede2-b930-4756-97bd-3b7e2113349c",
   "metadata": {},
   "outputs": [
    {
     "name": "stdout",
     "output_type": "stream",
     "text": [
      "Creating Chroma Database from documents... This may take a while.\n"
     ]
    }
   ],
   "source": [
    "\"\"\"\n",
    "    Create Chrome DB\n",
    "\"\"\"\n",
    "\n",
    "CHROMA_PATH = \"chroma_db\"\n",
    "chroma_db = None\n",
    "print(\"Creating Chroma Database from documents... This may take a while.\")\n",
    "\n",
    "# create ChromaDB from documents.\n",
    "chroma_db = Chroma.from_documents(documents=all_documents, embedding=embeddings, persist_directory=\"./chroma_db\")"
   ]
  },
  {
   "cell_type": "markdown",
   "id": "f08f46c4-e068-4190-a335-05ee9a5ad51a",
   "metadata": {},
   "source": [
    "# Run the actual chainlit / langchain combo"
   ]
  },
  {
   "cell_type": "code",
   "execution_count": null,
   "id": "2af5db3b-2568-4aa6-bce2-6be1ece1783e",
   "metadata": {},
   "outputs": [],
   "source": [
    "import os\n",
    "import argparse \n",
    "import json\n",
    "\n",
    "os.system(\"chainlit run clrun.py\")"
   ]
  },
  {
   "cell_type": "code",
   "execution_count": null,
   "id": "e97e323a-29f9-4458-87f2-2707c2fcc4a5",
   "metadata": {},
   "outputs": [],
   "source": []
  },
  {
   "cell_type": "code",
   "execution_count": null,
   "id": "62212e08-4a55-4f52-94e3-6c126cdb7c3f",
   "metadata": {},
   "outputs": [],
   "source": []
  }
 ],
 "metadata": {
  "kernelspec": {
   "display_name": "Python 3 (ipykernel)",
   "language": "python",
   "name": "python3"
  },
  "language_info": {
   "codemirror_mode": {
    "name": "ipython",
    "version": 3
   },
   "file_extension": ".py",
   "mimetype": "text/x-python",
   "name": "python",
   "nbconvert_exporter": "python",
   "pygments_lexer": "ipython3",
   "version": "3.10.15"
  }
 },
 "nbformat": 4,
 "nbformat_minor": 5
}
